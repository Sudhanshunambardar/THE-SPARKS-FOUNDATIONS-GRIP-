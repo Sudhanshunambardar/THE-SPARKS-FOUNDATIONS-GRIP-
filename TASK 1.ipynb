{
 "cells": [
  {
   "cell_type": "markdown",
   "id": "c91df0ac-4267-4b4c-93b9-470227fd1a49",
   "metadata": {},
   "source": [
    "# ***THE SPARKS FOUNDATIONS***\n",
    "## Data Science & Business Analytics Tasks\n",
    "## TASK - 1 : Prediction using Supervised ML\n",
    "### ***Name : Sudhanshu***"
   ]
  },
  {
   "cell_type": "code",
   "execution_count": null,
   "id": "97de6b98-9262-43ea-a4c1-f4eb130fc1f5",
   "metadata": {},
   "outputs": [],
   "source": []
  },
  {
   "cell_type": "code",
   "execution_count": null,
   "id": "aefe49eb-a891-458a-a88d-f3d0dd60b4b1",
   "metadata": {},
   "outputs": [],
   "source": []
  },
  {
   "cell_type": "markdown",
   "id": "f3bc2e74-4b56-4575-9ac5-3d7dc572c5b2",
   "metadata": {},
   "source": [
    "#### IMPORTING THE LIBRARIES "
   ]
  },
  {
   "cell_type": "code",
   "execution_count": 1,
   "id": "fafde68d-84fe-45c9-8034-8bd9c820c756",
   "metadata": {},
   "outputs": [],
   "source": [
    "import pandas as pd # to load and manipulate data and for One-Hot Encoding\n",
    "import numpy as np # to calculate the mean and standard deviation\n",
    "import matplotlib.pyplot as plt\n",
    "import seaborn as sns\n",
    "\n",
    "# suppress warnings \n",
    "from warnings import filterwarnings\n",
    "filterwarnings('ignore')"
   ]
  },
  {
   "cell_type": "code",
   "execution_count": null,
   "id": "7a2201b3-2fdc-4169-aaa3-a35be92f36fb",
   "metadata": {},
   "outputs": [],
   "source": []
  },
  {
   "cell_type": "markdown",
   "id": "9679cb6c-958b-4754-9bb1-5aa9594a3d98",
   "metadata": {},
   "source": [
    "#### DATA READING"
   ]
  },
  {
   "cell_type": "code",
   "execution_count": 2,
   "id": "28a91e4d-553d-44f2-a534-61d7d339e1e0",
   "metadata": {},
   "outputs": [
    {
     "data": {
      "text/html": [
       "<div>\n",
       "<style scoped>\n",
       "    .dataframe tbody tr th:only-of-type {\n",
       "        vertical-align: middle;\n",
       "    }\n",
       "\n",
       "    .dataframe tbody tr th {\n",
       "        vertical-align: top;\n",
       "    }\n",
       "\n",
       "    .dataframe thead th {\n",
       "        text-align: right;\n",
       "    }\n",
       "</style>\n",
       "<table border=\"1\" class=\"dataframe\">\n",
       "  <thead>\n",
       "    <tr style=\"text-align: right;\">\n",
       "      <th></th>\n",
       "      <th>Hours</th>\n",
       "      <th>Scores</th>\n",
       "    </tr>\n",
       "  </thead>\n",
       "  <tbody>\n",
       "    <tr>\n",
       "      <th>0</th>\n",
       "      <td>2.5</td>\n",
       "      <td>21</td>\n",
       "    </tr>\n",
       "    <tr>\n",
       "      <th>1</th>\n",
       "      <td>5.1</td>\n",
       "      <td>47</td>\n",
       "    </tr>\n",
       "    <tr>\n",
       "      <th>2</th>\n",
       "      <td>3.2</td>\n",
       "      <td>27</td>\n",
       "    </tr>\n",
       "    <tr>\n",
       "      <th>3</th>\n",
       "      <td>8.5</td>\n",
       "      <td>75</td>\n",
       "    </tr>\n",
       "    <tr>\n",
       "      <th>4</th>\n",
       "      <td>3.5</td>\n",
       "      <td>30</td>\n",
       "    </tr>\n",
       "  </tbody>\n",
       "</table>\n",
       "</div>"
      ],
      "text/plain": [
       "   Hours  Scores\n",
       "0    2.5      21\n",
       "1    5.1      47\n",
       "2    3.2      27\n",
       "3    8.5      75\n",
       "4    3.5      30"
      ]
     },
     "execution_count": 2,
     "metadata": {},
     "output_type": "execute_result"
    }
   ],
   "source": [
    "data = pd.read_csv('https://raw.githubusercontent.com/AdiPersonalWorks/Random/master/student_scores%20-%20student_scores.csv')\n",
    "data.head()"
   ]
  },
  {
   "cell_type": "code",
   "execution_count": null,
   "id": "fa082e3d-2669-4c66-8063-7b0db5f6f682",
   "metadata": {},
   "outputs": [],
   "source": []
  },
  {
   "cell_type": "markdown",
   "id": "51ee616c-45eb-4d81-8fb2-b3b23349063c",
   "metadata": {},
   "source": [
    "#### SUMMARY OF DATA"
   ]
  },
  {
   "cell_type": "code",
   "execution_count": 3,
   "id": "372e3bc5-280c-4542-8088-18fc85fcfe86",
   "metadata": {},
   "outputs": [
    {
     "name": "stdout",
     "output_type": "stream",
     "text": [
      "<class 'pandas.core.frame.DataFrame'>\n",
      "RangeIndex: 25 entries, 0 to 24\n",
      "Data columns (total 2 columns):\n",
      " #   Column  Non-Null Count  Dtype  \n",
      "---  ------  --------------  -----  \n",
      " 0   Hours   25 non-null     float64\n",
      " 1   Scores  25 non-null     int64  \n",
      "dtypes: float64(1), int64(1)\n",
      "memory usage: 528.0 bytes\n"
     ]
    }
   ],
   "source": [
    "data.info()"
   ]
  },
  {
   "cell_type": "code",
   "execution_count": 4,
   "id": "c1ac44b4-b045-4934-9bcf-4a18251e6f83",
   "metadata": {},
   "outputs": [
    {
     "data": {
      "text/html": [
       "<div>\n",
       "<style scoped>\n",
       "    .dataframe tbody tr th:only-of-type {\n",
       "        vertical-align: middle;\n",
       "    }\n",
       "\n",
       "    .dataframe tbody tr th {\n",
       "        vertical-align: top;\n",
       "    }\n",
       "\n",
       "    .dataframe thead th {\n",
       "        text-align: right;\n",
       "    }\n",
       "</style>\n",
       "<table border=\"1\" class=\"dataframe\">\n",
       "  <thead>\n",
       "    <tr style=\"text-align: right;\">\n",
       "      <th></th>\n",
       "      <th>Hours</th>\n",
       "      <th>Scores</th>\n",
       "    </tr>\n",
       "  </thead>\n",
       "  <tbody>\n",
       "    <tr>\n",
       "      <th>count</th>\n",
       "      <td>25.000000</td>\n",
       "      <td>25.000000</td>\n",
       "    </tr>\n",
       "    <tr>\n",
       "      <th>mean</th>\n",
       "      <td>5.012000</td>\n",
       "      <td>51.480000</td>\n",
       "    </tr>\n",
       "    <tr>\n",
       "      <th>std</th>\n",
       "      <td>2.525094</td>\n",
       "      <td>25.286887</td>\n",
       "    </tr>\n",
       "    <tr>\n",
       "      <th>min</th>\n",
       "      <td>1.100000</td>\n",
       "      <td>17.000000</td>\n",
       "    </tr>\n",
       "    <tr>\n",
       "      <th>25%</th>\n",
       "      <td>2.700000</td>\n",
       "      <td>30.000000</td>\n",
       "    </tr>\n",
       "    <tr>\n",
       "      <th>50%</th>\n",
       "      <td>4.800000</td>\n",
       "      <td>47.000000</td>\n",
       "    </tr>\n",
       "    <tr>\n",
       "      <th>75%</th>\n",
       "      <td>7.400000</td>\n",
       "      <td>75.000000</td>\n",
       "    </tr>\n",
       "    <tr>\n",
       "      <th>max</th>\n",
       "      <td>9.200000</td>\n",
       "      <td>95.000000</td>\n",
       "    </tr>\n",
       "  </tbody>\n",
       "</table>\n",
       "</div>"
      ],
      "text/plain": [
       "           Hours     Scores\n",
       "count  25.000000  25.000000\n",
       "mean    5.012000  51.480000\n",
       "std     2.525094  25.286887\n",
       "min     1.100000  17.000000\n",
       "25%     2.700000  30.000000\n",
       "50%     4.800000  47.000000\n",
       "75%     7.400000  75.000000\n",
       "max     9.200000  95.000000"
      ]
     },
     "execution_count": 4,
     "metadata": {},
     "output_type": "execute_result"
    }
   ],
   "source": [
    "data.describe()"
   ]
  },
  {
   "cell_type": "code",
   "execution_count": null,
   "id": "fc920e32-c0f7-4575-b5dc-748d76d031b0",
   "metadata": {},
   "outputs": [],
   "source": []
  },
  {
   "cell_type": "markdown",
   "id": "b392c595-e07f-44aa-b3c5-3bbadbecfd6f",
   "metadata": {},
   "source": [
    "#### SCATTER PLOT"
   ]
  },
  {
   "cell_type": "code",
   "execution_count": 5,
   "id": "8828f025-5d94-47ca-892d-773299e50f98",
   "metadata": {},
   "outputs": [
    {
     "data": {
      "text/plain": [
       "<AxesSubplot:xlabel='Hours', ylabel='Scores'>"
      ]
     },
     "execution_count": 5,
     "metadata": {},
     "output_type": "execute_result"
    },
    {
     "data": {
      "image/png": "[encoded data removed]",
      "text/plain": [
       "<Figure size 720x360 with 1 Axes>"
      ]
     },
     "metadata": {
      "needs_background": "light"
     },
     "output_type": "display_data"
    }
   ],
   "source": [
    "plt.figure(figsize = (10,5))\n",
    "sns.scatterplot(data['Hours'],data['Scores'])"
   ]
  },
  {
   "cell_type": "code",
   "execution_count": null,
   "id": "3c4f3bbb-b998-45f3-b135-a21ed872a14f",
   "metadata": {},
   "outputs": [],
   "source": []
  },
  {
   "cell_type": "markdown",
   "id": "400df79b-971a-4594-bdf5-7b72eec4accb",
   "metadata": {},
   "source": [
    "#### * We use corr() function to compute pairwise correlation of columns in the dataframe."
   ]
  },
  {
   "cell_type": "code",
   "execution_count": 6,
   "id": "41b6e416-5459-492a-b4a9-2ac474cf7fab",
   "metadata": {},
   "outputs": [
    {
     "data": {
      "text/html": [
       "<div>\n",
       "<style scoped>\n",
       "    .dataframe tbody tr th:only-of-type {\n",
       "        vertical-align: middle;\n",
       "    }\n",
       "\n",
       "    .dataframe tbody tr th {\n",
       "        vertical-align: top;\n",
       "    }\n",
       "\n",
       "    .dataframe thead th {\n",
       "        text-align: right;\n",
       "    }\n",
       "</style>\n",
       "<table border=\"1\" class=\"dataframe\">\n",
       "  <thead>\n",
       "    <tr style=\"text-align: right;\">\n",
       "      <th></th>\n",
       "      <th>Hours</th>\n",
       "      <th>Scores</th>\n",
       "    </tr>\n",
       "  </thead>\n",
       "  <tbody>\n",
       "    <tr>\n",
       "      <th>Hours</th>\n",
       "      <td>1.000000</td>\n",
       "      <td>0.976191</td>\n",
       "    </tr>\n",
       "    <tr>\n",
       "      <th>Scores</th>\n",
       "      <td>0.976191</td>\n",
       "      <td>1.000000</td>\n",
       "    </tr>\n",
       "  </tbody>\n",
       "</table>\n",
       "</div>"
      ],
      "text/plain": [
       "           Hours    Scores\n",
       "Hours   1.000000  0.976191\n",
       "Scores  0.976191  1.000000"
      ]
     },
     "execution_count": 6,
     "metadata": {},
     "output_type": "execute_result"
    }
   ],
   "source": [
    "data.corr()"
   ]
  },
  {
   "cell_type": "markdown",
   "id": "7f512ccf-1d4d-409f-a01e-39d7dcaeeaff",
   "metadata": {},
   "source": [
    "#### * POSITIVELY CORRELATED"
   ]
  },
  {
   "cell_type": "code",
   "execution_count": 7,
   "id": "e363eadb-f18c-4bf0-a333-bdb113bde733",
   "metadata": {},
   "outputs": [
    {
     "data": {
      "text/plain": [
       "<AxesSubplot:>"
      ]
     },
     "execution_count": 7,
     "metadata": {},
     "output_type": "execute_result"
    },
    {
     "data": {
      "image/png": "[encoded data removed]",
      "text/plain": [
       "<Figure size 720x360 with 2 Axes>"
      ]
     },
     "metadata": {
      "needs_background": "light"
     },
     "output_type": "display_data"
    }
   ],
   "source": [
    "plt.figure(figsize =(10,5))\n",
    "sns.heatmap(data.corr(),annot = True)"
   ]
  },
  {
   "cell_type": "code",
   "execution_count": null,
   "id": "51bb5473-e3e9-4cdc-92e7-efa40a98b479",
   "metadata": {},
   "outputs": [],
   "source": []
  },
  {
   "cell_type": "markdown",
   "id": "b22fd847-5999-472e-820f-cb51a899584c",
   "metadata": {},
   "source": [
    "### * SPLITING THE DATA"
   ]
  },
  {
   "cell_type": "code",
   "execution_count": 8,
   "id": "6ecd445e-c03a-45e9-9de2-06e14b132aed",
   "metadata": {},
   "outputs": [],
   "source": [
    "#Creating feature and target arrays\n",
    "x = data.drop(\"Scores\", axis=1).values\n",
    "y = data[\"Scores\"].values"
   ]
  },
  {
   "cell_type": "code",
   "execution_count": 9,
   "id": "cc5f881d-0b7b-486b-bc8d-567d804bd80f",
   "metadata": {},
   "outputs": [],
   "source": [
    "from sklearn.model_selection import train_test_split\n",
    "\n",
    "#split the data\n",
    "x_train, x_test, y_train, y_test = train_test_split(x, y, test_size=0.3, random_state = 0)"
   ]
  },
  {
   "cell_type": "code",
   "execution_count": 10,
   "id": "aace199c-6ab1-4610-8e40-e1991fdcb3b4",
   "metadata": {},
   "outputs": [
    {
     "data": {
      "text/plain": [
       "((17, 1), (17,))"
      ]
     },
     "execution_count": 10,
     "metadata": {},
     "output_type": "execute_result"
    }
   ],
   "source": [
    "x_train.shape , y_train.shape"
   ]
  },
  {
   "cell_type": "code",
   "execution_count": 11,
   "id": "33c3eacd-283a-44c7-9ada-6c7cd780545b",
   "metadata": {},
   "outputs": [
    {
     "data": {
      "text/plain": [
       "((8, 1), (8,))"
      ]
     },
     "execution_count": 11,
     "metadata": {},
     "output_type": "execute_result"
    }
   ],
   "source": [
    "x_test.shape , y_test.shape"
   ]
  },
  {
   "cell_type": "code",
   "execution_count": null,
   "id": "fabf7854-4121-42ea-b7f4-491c9e448568",
   "metadata": {},
   "outputs": [],
   "source": []
  },
  {
   "cell_type": "markdown",
   "id": "4983ccfa-d4df-4e3c-9835-715c5c66996c",
   "metadata": {},
   "source": [
    "### * PLOT OUR TRAIN AND TEST SETS"
   ]
  },
  {
   "cell_type": "code",
   "execution_count": 12,
   "id": "724c399f-8bd7-412a-a56e-47a13af834e8",
   "metadata": {},
   "outputs": [
    {
     "data": {
      "text/plain": [
       "<matplotlib.collections.PathCollection at 0x20207519d60>"
      ]
     },
     "execution_count": 12,
     "metadata": {},
     "output_type": "execute_result"
    },
    {
     "data": {
      "image/png": "[encoded data removed]",
      "text/plain": [
       "<Figure size 720x360 with 1 Axes>"
      ]
     },
     "metadata": {},
     "output_type": "display_data"
    },
    {
     "data": {
      "image/png": "[encoded data removed]",
      "text/plain": [
       "<Figure size 720x360 with 1 Axes>"
      ]
     },
     "metadata": {},
     "output_type": "display_data"
    }
   ],
   "source": [
    "plt.style.use(\"seaborn\")\n",
    "plt.figure(figsize=(10,5))\n",
    "plt.title(\"Train set\")\n",
    "plt.scatter(x_train, y_train, c=\"#1597E5\")\n",
    "\n",
    "plt.figure(figsize=(10,5))\n",
    "plt.title(\"Test set\")\n",
    "plt.scatter(x_test, y_test, c=\"#FF5F7E\")"
   ]
  },
  {
   "cell_type": "code",
   "execution_count": null,
   "id": "5b78ffdf-ed77-4a30-851b-cedfe7200763",
   "metadata": {},
   "outputs": [],
   "source": []
  },
  {
   "cell_type": "markdown",
   "id": "7f3db7e6-1c39-462e-9a68-709614041136",
   "metadata": {},
   "source": [
    "### * FITTING DATA INTO MODEL"
   ]
  },
  {
   "cell_type": "code",
   "execution_count": 13,
   "id": "601e0b1a-4843-46ee-9151-f5f4179f78f4",
   "metadata": {},
   "outputs": [
    {
     "name": "stdout",
     "output_type": "stream",
     "text": [
      "---MODEL TRAINED---\n"
     ]
    }
   ],
   "source": [
    "# Train our model\n",
    "\n",
    "from sklearn.linear_model import LinearRegression\n",
    "from sklearn.metrics import r2_score\n",
    "from sklearn.metrics import mean_squared_error\n",
    "\n",
    "model = LinearRegression()\n",
    "model.fit(x_train, y_train)\n",
    "print('---MODEL TRAINED---')\n"
   ]
  },
  {
   "cell_type": "code",
   "execution_count": null,
   "id": "98a5aaa9-74d7-465e-9755-215de435ffb1",
   "metadata": {},
   "outputs": [],
   "source": []
  },
  {
   "cell_type": "markdown",
   "id": "c5f90ace-9841-49f3-b5b6-efbc1295e029",
   "metadata": {},
   "source": [
    "### * PRED vs ACTUAL"
   ]
  },
  {
   "cell_type": "code",
   "execution_count": 14,
   "id": "86a633bb-f0ec-4bd1-90e1-df224f67e0dd",
   "metadata": {},
   "outputs": [],
   "source": [
    "y_pred = model.predict(x_test)"
   ]
  },
  {
   "cell_type": "code",
   "execution_count": 15,
   "id": "4ed28b2e-be78-4f15-8a19-61628ec1be05",
   "metadata": {},
   "outputs": [
    {
     "data": {
      "text/html": [
       "<div>\n",
       "<style scoped>\n",
       "    .dataframe tbody tr th:only-of-type {\n",
       "        vertical-align: middle;\n",
       "    }\n",
       "\n",
       "    .dataframe tbody tr th {\n",
       "        vertical-align: top;\n",
       "    }\n",
       "\n",
       "    .dataframe thead th {\n",
       "        text-align: right;\n",
       "    }\n",
       "</style>\n",
       "<table border=\"1\" class=\"dataframe\">\n",
       "  <thead>\n",
       "    <tr style=\"text-align: right;\">\n",
       "      <th></th>\n",
       "      <th>Actual</th>\n",
       "      <th>Pred</th>\n",
       "    </tr>\n",
       "  </thead>\n",
       "  <tbody>\n",
       "    <tr>\n",
       "      <th>0</th>\n",
       "      <td>20</td>\n",
       "      <td>17.053665</td>\n",
       "    </tr>\n",
       "    <tr>\n",
       "      <th>1</th>\n",
       "      <td>27</td>\n",
       "      <td>33.694229</td>\n",
       "    </tr>\n",
       "    <tr>\n",
       "      <th>2</th>\n",
       "      <td>69</td>\n",
       "      <td>74.806209</td>\n",
       "    </tr>\n",
       "    <tr>\n",
       "      <th>3</th>\n",
       "      <td>30</td>\n",
       "      <td>26.842232</td>\n",
       "    </tr>\n",
       "    <tr>\n",
       "      <th>4</th>\n",
       "      <td>62</td>\n",
       "      <td>60.123359</td>\n",
       "    </tr>\n",
       "    <tr>\n",
       "      <th>5</th>\n",
       "      <td>35</td>\n",
       "      <td>39.567369</td>\n",
       "    </tr>\n",
       "    <tr>\n",
       "      <th>6</th>\n",
       "      <td>24</td>\n",
       "      <td>20.969092</td>\n",
       "    </tr>\n",
       "    <tr>\n",
       "      <th>7</th>\n",
       "      <td>86</td>\n",
       "      <td>78.721636</td>\n",
       "    </tr>\n",
       "  </tbody>\n",
       "</table>\n",
       "</div>"
      ],
      "text/plain": [
       "   Actual       Pred\n",
       "0      20  17.053665\n",
       "1      27  33.694229\n",
       "2      69  74.806209\n",
       "3      30  26.842232\n",
       "4      62  60.123359\n",
       "5      35  39.567369\n",
       "6      24  20.969092\n",
       "7      86  78.721636"
      ]
     },
     "execution_count": 15,
     "metadata": {},
     "output_type": "execute_result"
    }
   ],
   "source": [
    "pred = pd.DataFrame({'Actual': y_test, 'Pred': y_pred})\n",
    "pred"
   ]
  },
  {
   "cell_type": "code",
   "execution_count": null,
   "id": "6eba6850-959d-4bac-b5e2-6ff2a3947e0a",
   "metadata": {},
   "outputs": [],
   "source": []
  },
  {
   "cell_type": "markdown",
   "id": "b7ed63f3-97a6-4c53-91ad-b16c1e709770",
   "metadata": {},
   "source": [
    "### * EVALUATE OUR MODEL"
   ]
  },
  {
   "cell_type": "code",
   "execution_count": 16,
   "id": "3b434f91-fb4b-44f3-b377-758bcc8d965d",
   "metadata": {},
   "outputs": [
    {
     "name": "stdout",
     "output_type": "stream",
     "text": [
      "Mean squared error:  22.96509721270043\n",
      "R2 Score:  0.9568211104435257\n"
     ]
    }
   ],
   "source": [
    "\n",
    "from sklearn.metrics import mean_squared_error, r2_score\n",
    "\n",
    "MSE = mean_squared_error(y_test, y_pred)\n",
    "r2 = r2_score(y_test, y_pred)\n",
    "\n",
    "print('Mean squared error: ', MSE)\n",
    "print('R2 Score: ', r2)"
   ]
  },
  {
   "cell_type": "markdown",
   "id": "f1131799-bcd7-490d-af35-609f444f07f3",
   "metadata": {},
   "source": [
    "##### The Mean square error should be as close to zero as possible and the R2 Score should be as close as to 1 as possible. "
   ]
  },
  {
   "cell_type": "code",
   "execution_count": 17,
   "id": "4ef7217c-1bc9-47e9-ba21-5000cfb1d0ff",
   "metadata": {},
   "outputs": [
    {
     "name": "stdout",
     "output_type": "stream",
     "text": [
      "Slope : [9.78856669]\n",
      "Intercept : 2.370815382341881\n",
      "The line is of the form \"y = (9.789) * x + 2.371\"\n"
     ]
    }
   ],
   "source": [
    "print('Slope :', model.coef_)\n",
    "print('Intercept :',model.intercept_)\n",
    "\n",
    "print('The line is of the form \"y = ({:.3f}) * x + {:.3f}\"'.format(model.coef_[0], model.intercept_))"
   ]
  },
  {
   "cell_type": "code",
   "execution_count": null,
   "id": "65beebeb-0f37-4a43-a806-5b72aeb8a442",
   "metadata": {},
   "outputs": [],
   "source": []
  },
  {
   "cell_type": "markdown",
   "id": "6d692169-563c-4e7d-9437-a2aa3f187e39",
   "metadata": {},
   "source": [
    "### * PLOT OUT PREDICTIONS"
   ]
  },
  {
   "cell_type": "code",
   "execution_count": 18,
   "id": "77cee41d-5a33-4184-b6b6-36580ce98211",
   "metadata": {},
   "outputs": [
    {
     "data": {
      "text/plain": [
       "[<matplotlib.lines.Line2D at 0x20207de1d30>]"
      ]
     },
     "execution_count": 18,
     "metadata": {},
     "output_type": "execute_result"
    },
    {
     "data": {
      "image/png": "[encoded data removed]",
      "text/plain": [
       "<Figure size 720x360 with 1 Axes>"
      ]
     },
     "metadata": {},
     "output_type": "display_data"
    }
   ],
   "source": [
    "plt.figure(figsize=(10,5))\n",
    "plt.title(\"ACTUAL X PREDICTED\")\n",
    "plt.scatter(x_test, y_test, c=\"#1597E5\")\n",
    "plt.plot(x_test, y_pred, c=\"#FF5F7E\")"
   ]
  },
  {
   "cell_type": "code",
   "execution_count": null,
   "id": "b39c9326-112d-4c74-9f42-d91f8aa4db24",
   "metadata": {},
   "outputs": [],
   "source": []
  },
  {
   "cell_type": "markdown",
   "id": "f6c4719d-50ae-4887-badc-2d88ebec8ee3",
   "metadata": {},
   "source": [
    "### * What will be predicted score if a student studies for 9.25 hrs/ day?"
   ]
  },
  {
   "cell_type": "code",
   "execution_count": 19,
   "id": "aa0f4ff7-eb70-4a7b-8e40-531eff041205",
   "metadata": {},
   "outputs": [
    {
     "name": "stdout",
     "output_type": "stream",
     "text": [
      "No. of Hours = 9.25\n",
      "Pred Score = 92.915\n"
     ]
    }
   ],
   "source": [
    "Hours = 9.25\n",
    "Hrs = np.array(Hours).reshape(-1,1)  \n",
    "pred = model.predict(Hrs)\n",
    "\n",
    "print('No. of Hours = {}'.format(Hours))\n",
    "print('Pred Score = {}'.format(round(pred[0],3)))"
   ]
  },
  {
   "cell_type": "markdown",
   "id": "d4ca4639-71c7-40ef-96ca-c2ae77e46e61",
   "metadata": {},
   "source": [
    "##### ACCORDING TO THIS MODEL : IF A STUDENT STUDIES FOR 9.25hrs A DAY HE IS LIKELY TO SCORE 92.915"
   ]
  },
  {
   "cell_type": "code",
   "execution_count": null,
   "id": "a01309ca-0fa5-46eb-8a4e-91201c42b6a6",
   "metadata": {},
   "outputs": [],
   "source": []
  }
 ],
 "metadata": {
  "kernelspec": {
   "display_name": "Python 3 (ipykernel)",
   "language": "python",
   "name": "python3"
  },
  "language_info": {
   "codemirror_mode": {
    "name": "ipython",
    "version": 3
   },
   "file_extension": ".py",
   "mimetype": "text/x-python",
   "name": "python",
   "nbconvert_exporter": "python",
   "pygments_lexer": "ipython3",
   "version": "3.9.12"
  }
 },
 "nbformat": 4,
 "nbformat_minor": 5
}
